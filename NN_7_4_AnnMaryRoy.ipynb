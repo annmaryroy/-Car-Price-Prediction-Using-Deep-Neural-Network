{
  "nbformat": 4,
  "nbformat_minor": 0,
  "metadata": {
    "colab": {
      "provenance": [],
      "authorship_tag": "ABX9TyOPQrAgYAz5vYoEDKvGHzXR",
      "include_colab_link": true
    },
    "kernelspec": {
      "name": "python3",
      "display_name": "Python 3"
    },
    "language_info": {
      "name": "python"
    }
  },
  "cells": [
    {
      "cell_type": "markdown",
      "metadata": {
        "id": "view-in-github",
        "colab_type": "text"
      },
      "source": [
        "<a href=\"https://colab.research.google.com/github/annmaryroy/-Car-Price-Prediction-Using-Deep-Neural-Network/blob/main/NN_7_4_AnnMaryRoy.ipynb\" target=\"_parent\"><img src=\"https://colab.research.google.com/assets/colab-badge.svg\" alt=\"Open In Colab\"/></a>"
      ]
    },
    {
      "cell_type": "markdown",
      "source": [
        "#Project Title: Car Price Prediction Using Deep Neural Network\n",
        "\n",
        "Student Name: Ann Mary Roy\n",
        "\n",
        "Student ID :25021001\n",
        "\n",
        "Batch: S1, M.Tech VLSI & Embedded Systems\n",
        "\n",
        "Date: 20 October 2025"
      ],
      "metadata": {
        "id": "T42mUeBhVAGR"
      }
    },
    {
      "cell_type": "markdown",
      "source": [
        "Objective:\n",
        "\n",
        "- Predict the selling price of used cars using a deep neural network (Regression task).\n",
        "- The model is trained on the CarDekho used cars dataset and deployed using Streamlit."
      ],
      "metadata": {
        "id": "N7EATm5YVR1s"
      }
    },
    {
      "cell_type": "markdown",
      "source": [
        "Steps included:\n",
        "1. Dataset Load\n",
        "2. Data Visualization\n",
        "3. Dataset Split (Train, Validation, Test)\n",
        "4. Model Building\n",
        "5. Training and Validation\n",
        "6. Learning Curve Evaluation (Accuracy/Loss Plot)\n",
        "7. Testing\n",
        "8. Testing Evaluation (Regression Metrics)\n",
        "9. Deployment as a Python Web Screen (Streamlit)\n",
        "10. Results and Conclusion\n"
      ],
      "metadata": {
        "id": "Lgsroz04VDMq"
      }
    },
    {
      "cell_type": "markdown",
      "source": [
        "#1. Import Libraries\n",
        "\n",
        "Import all necessary libraries for data handling, visualization, and model building."
      ],
      "metadata": {
        "id": "vXQqevkNVpD9"
      }
    },
    {
      "cell_type": "code",
      "source": [
        "import pandas as pd\n",
        "import numpy as np\n",
        "import matplotlib.pyplot as plt\n",
        "import seaborn as sns\n",
        "import kagglehub\n",
        "import os\n",
        "from sklearn.model_selection import train_test_split\n",
        "from sklearn.preprocessing import StandardScaler, OneHotEncoder\n",
        "from sklearn.compose import ColumnTransformer\n",
        "from sklearn.pipeline import Pipeline\n",
        "from sklearn.metrics import mean_squared_error, mean_absolute_error, r2_score\n",
        "import tensorflow as tf\n",
        "from tensorflow.keras.models import Sequential\n",
        "from tensorflow.keras.layers import Dense, Dropout\n"
      ],
      "metadata": {
        "id": "ticFZATyxsfW"
      },
      "execution_count": 58,
      "outputs": []
    },
    {
      "cell_type": "code",
      "execution_count": 17,
      "metadata": {
        "id": "MJWqz_9wv4nB"
      },
      "outputs": [],
      "source": [
        "np.random.seed(42)\n",
        "tf.random.set_seed(42)"
      ]
    },
    {
      "cell_type": "markdown",
      "source": [
        "#2. Dataset Load\n",
        "\n",
        "Load the CarDekho dataset. Ensure the CSV file is available in the working directory."
      ],
      "metadata": {
        "id": "qI8CC8D3VxBu"
      }
    },
    {
      "cell_type": "code",
      "source": [
        "import kagglehub\n",
        "\n",
        "# Download latest version\n",
        "path = kagglehub.dataset_download(\"nehalbirla/vehicle-dataset-from-cardekho\")\n",
        "\n",
        "print(\"Path to dataset files:\", path)\n"
      ],
      "metadata": {
        "colab": {
          "base_uri": "https://localhost:8080/"
        },
        "id": "tZplMyGwyCEW",
        "outputId": "50b88491-4dbb-46c9-d7df-6f533d3c14a2"
      },
      "execution_count": 18,
      "outputs": [
        {
          "output_type": "stream",
          "name": "stdout",
          "text": [
            "Using Colab cache for faster access to the 'vehicle-dataset-from-cardekho' dataset.\n",
            "Path to dataset files: /kaggle/input/vehicle-dataset-from-cardekho\n"
          ]
        }
      ]
    },
    {
      "cell_type": "code",
      "source": [
        "file_path = os.path.join(path, \"car data.csv\")"
      ],
      "metadata": {
        "id": "pickm17s56Im"
      },
      "execution_count": 19,
      "outputs": []
    },
    {
      "cell_type": "code",
      "source": [
        "data = pd.read_csv(file_path)"
      ],
      "metadata": {
        "id": "BT0KwfYk6Cg3"
      },
      "execution_count": 20,
      "outputs": []
    },
    {
      "cell_type": "code",
      "source": [
        "print(\"\\n📋 First five rows:\")\n",
        "print(data.head())"
      ],
      "metadata": {
        "colab": {
          "base_uri": "https://localhost:8080/"
        },
        "id": "UOcg1S846QsM",
        "outputId": "3ffc0e4c-59f8-4503-9231-52838c2b01fe"
      },
      "execution_count": 21,
      "outputs": [
        {
          "output_type": "stream",
          "name": "stdout",
          "text": [
            "\n",
            "📋 First five rows:\n",
            "  Car_Name  Year  Selling_Price  Present_Price  Kms_Driven Fuel_Type  \\\n",
            "0     ritz  2014           3.35           5.59       27000    Petrol   \n",
            "1      sx4  2013           4.75           9.54       43000    Diesel   \n",
            "2     ciaz  2017           7.25           9.85        6900    Petrol   \n",
            "3  wagon r  2011           2.85           4.15        5200    Petrol   \n",
            "4    swift  2014           4.60           6.87       42450    Diesel   \n",
            "\n",
            "  Seller_Type Transmission  Owner  \n",
            "0      Dealer       Manual      0  \n",
            "1      Dealer       Manual      0  \n",
            "2      Dealer       Manual      0  \n",
            "3      Dealer       Manual      0  \n",
            "4      Dealer       Manual      0  \n"
          ]
        }
      ]
    },
    {
      "cell_type": "markdown",
      "source": [
        "#3. Data Description\n",
        "\n",
        "Display dataset info, missing values, and summary statistics."
      ],
      "metadata": {
        "id": "gw8VNArzV8l8"
      }
    },
    {
      "cell_type": "code",
      "source": [
        "print(\"\\n🧾 Dataset Details:\")\n",
        "print('Shape of data:', data.shape)\n",
        "print('\\nColumns:', data.columns.tolist())\n",
        "print('\\nMissing values per column:\\n', data.isnull().sum())"
      ],
      "metadata": {
        "colab": {
          "base_uri": "https://localhost:8080/"
        },
        "id": "bU_muNYW6Wlg",
        "outputId": "d028acb0-5557-4a11-c421-a0d85d5aefd1"
      },
      "execution_count": 22,
      "outputs": [
        {
          "output_type": "stream",
          "name": "stdout",
          "text": [
            "\n",
            "🧾 Dataset Details:\n",
            "Shape of data: (301, 9)\n",
            "\n",
            "Columns: ['Car_Name', 'Year', 'Selling_Price', 'Present_Price', 'Kms_Driven', 'Fuel_Type', 'Seller_Type', 'Transmission', 'Owner']\n",
            "\n",
            "Missing values per column:\n",
            " Car_Name         0\n",
            "Year             0\n",
            "Selling_Price    0\n",
            "Present_Price    0\n",
            "Kms_Driven       0\n",
            "Fuel_Type        0\n",
            "Seller_Type      0\n",
            "Transmission     0\n",
            "Owner            0\n",
            "dtype: int64\n"
          ]
        }
      ]
    },
    {
      "cell_type": "code",
      "source": [
        "print(\"\\n📊 Summary Statistics:\")\n",
        "display(data.describe(include='all'))"
      ],
      "metadata": {
        "colab": {
          "base_uri": "https://localhost:8080/",
          "height": 408
        },
        "id": "GVd2lSm86eiv",
        "outputId": "376ac8f5-11f2-448b-edbb-a9796eb1d957"
      },
      "execution_count": 23,
      "outputs": [
        {
          "output_type": "stream",
          "name": "stdout",
          "text": [
            "\n",
            "📊 Summary Statistics:\n"
          ]
        },
        {
          "output_type": "display_data",
          "data": {
            "text/plain": [
              "       Car_Name         Year  Selling_Price  Present_Price     Kms_Driven  \\\n",
              "count       301   301.000000     301.000000     301.000000     301.000000   \n",
              "unique       98          NaN            NaN            NaN            NaN   \n",
              "top        city          NaN            NaN            NaN            NaN   \n",
              "freq         26          NaN            NaN            NaN            NaN   \n",
              "mean        NaN  2013.627907       4.661296       7.628472   36947.205980   \n",
              "std         NaN     2.891554       5.082812       8.644115   38886.883882   \n",
              "min         NaN  2003.000000       0.100000       0.320000     500.000000   \n",
              "25%         NaN  2012.000000       0.900000       1.200000   15000.000000   \n",
              "50%         NaN  2014.000000       3.600000       6.400000   32000.000000   \n",
              "75%         NaN  2016.000000       6.000000       9.900000   48767.000000   \n",
              "max         NaN  2018.000000      35.000000      92.600000  500000.000000   \n",
              "\n",
              "       Fuel_Type Seller_Type Transmission       Owner  \n",
              "count        301         301          301  301.000000  \n",
              "unique         3           2            2         NaN  \n",
              "top       Petrol      Dealer       Manual         NaN  \n",
              "freq         239         195          261         NaN  \n",
              "mean         NaN         NaN          NaN    0.043189  \n",
              "std          NaN         NaN          NaN    0.247915  \n",
              "min          NaN         NaN          NaN    0.000000  \n",
              "25%          NaN         NaN          NaN    0.000000  \n",
              "50%          NaN         NaN          NaN    0.000000  \n",
              "75%          NaN         NaN          NaN    0.000000  \n",
              "max          NaN         NaN          NaN    3.000000  "
            ],
            "text/html": [
              "\n",
              "  <div id=\"df-9cc1ddfc-f13f-4ec2-8af6-528dd00a22b6\" class=\"colab-df-container\">\n",
              "    <div>\n",
              "<style scoped>\n",
              "    .dataframe tbody tr th:only-of-type {\n",
              "        vertical-align: middle;\n",
              "    }\n",
              "\n",
              "    .dataframe tbody tr th {\n",
              "        vertical-align: top;\n",
              "    }\n",
              "\n",
              "    .dataframe thead th {\n",
              "        text-align: right;\n",
              "    }\n",
              "</style>\n",
              "<table border=\"1\" class=\"dataframe\">\n",
              "  <thead>\n",
              "    <tr style=\"text-align: right;\">\n",
              "      <th></th>\n",
              "      <th>Car_Name</th>\n",
              "      <th>Year</th>\n",
              "      <th>Selling_Price</th>\n",
              "      <th>Present_Price</th>\n",
              "      <th>Kms_Driven</th>\n",
              "      <th>Fuel_Type</th>\n",
              "      <th>Seller_Type</th>\n",
              "      <th>Transmission</th>\n",
              "      <th>Owner</th>\n",
              "    </tr>\n",
              "  </thead>\n",
              "  <tbody>\n",
              "    <tr>\n",
              "      <th>count</th>\n",
              "      <td>301</td>\n",
              "      <td>301.000000</td>\n",
              "      <td>301.000000</td>\n",
              "      <td>301.000000</td>\n",
              "      <td>301.000000</td>\n",
              "      <td>301</td>\n",
              "      <td>301</td>\n",
              "      <td>301</td>\n",
              "      <td>301.000000</td>\n",
              "    </tr>\n",
              "    <tr>\n",
              "      <th>unique</th>\n",
              "      <td>98</td>\n",
              "      <td>NaN</td>\n",
              "      <td>NaN</td>\n",
              "      <td>NaN</td>\n",
              "      <td>NaN</td>\n",
              "      <td>3</td>\n",
              "      <td>2</td>\n",
              "      <td>2</td>\n",
              "      <td>NaN</td>\n",
              "    </tr>\n",
              "    <tr>\n",
              "      <th>top</th>\n",
              "      <td>city</td>\n",
              "      <td>NaN</td>\n",
              "      <td>NaN</td>\n",
              "      <td>NaN</td>\n",
              "      <td>NaN</td>\n",
              "      <td>Petrol</td>\n",
              "      <td>Dealer</td>\n",
              "      <td>Manual</td>\n",
              "      <td>NaN</td>\n",
              "    </tr>\n",
              "    <tr>\n",
              "      <th>freq</th>\n",
              "      <td>26</td>\n",
              "      <td>NaN</td>\n",
              "      <td>NaN</td>\n",
              "      <td>NaN</td>\n",
              "      <td>NaN</td>\n",
              "      <td>239</td>\n",
              "      <td>195</td>\n",
              "      <td>261</td>\n",
              "      <td>NaN</td>\n",
              "    </tr>\n",
              "    <tr>\n",
              "      <th>mean</th>\n",
              "      <td>NaN</td>\n",
              "      <td>2013.627907</td>\n",
              "      <td>4.661296</td>\n",
              "      <td>7.628472</td>\n",
              "      <td>36947.205980</td>\n",
              "      <td>NaN</td>\n",
              "      <td>NaN</td>\n",
              "      <td>NaN</td>\n",
              "      <td>0.043189</td>\n",
              "    </tr>\n",
              "    <tr>\n",
              "      <th>std</th>\n",
              "      <td>NaN</td>\n",
              "      <td>2.891554</td>\n",
              "      <td>5.082812</td>\n",
              "      <td>8.644115</td>\n",
              "      <td>38886.883882</td>\n",
              "      <td>NaN</td>\n",
              "      <td>NaN</td>\n",
              "      <td>NaN</td>\n",
              "      <td>0.247915</td>\n",
              "    </tr>\n",
              "    <tr>\n",
              "      <th>min</th>\n",
              "      <td>NaN</td>\n",
              "      <td>2003.000000</td>\n",
              "      <td>0.100000</td>\n",
              "      <td>0.320000</td>\n",
              "      <td>500.000000</td>\n",
              "      <td>NaN</td>\n",
              "      <td>NaN</td>\n",
              "      <td>NaN</td>\n",
              "      <td>0.000000</td>\n",
              "    </tr>\n",
              "    <tr>\n",
              "      <th>25%</th>\n",
              "      <td>NaN</td>\n",
              "      <td>2012.000000</td>\n",
              "      <td>0.900000</td>\n",
              "      <td>1.200000</td>\n",
              "      <td>15000.000000</td>\n",
              "      <td>NaN</td>\n",
              "      <td>NaN</td>\n",
              "      <td>NaN</td>\n",
              "      <td>0.000000</td>\n",
              "    </tr>\n",
              "    <tr>\n",
              "      <th>50%</th>\n",
              "      <td>NaN</td>\n",
              "      <td>2014.000000</td>\n",
              "      <td>3.600000</td>\n",
              "      <td>6.400000</td>\n",
              "      <td>32000.000000</td>\n",
              "      <td>NaN</td>\n",
              "      <td>NaN</td>\n",
              "      <td>NaN</td>\n",
              "      <td>0.000000</td>\n",
              "    </tr>\n",
              "    <tr>\n",
              "      <th>75%</th>\n",
              "      <td>NaN</td>\n",
              "      <td>2016.000000</td>\n",
              "      <td>6.000000</td>\n",
              "      <td>9.900000</td>\n",
              "      <td>48767.000000</td>\n",
              "      <td>NaN</td>\n",
              "      <td>NaN</td>\n",
              "      <td>NaN</td>\n",
              "      <td>0.000000</td>\n",
              "    </tr>\n",
              "    <tr>\n",
              "      <th>max</th>\n",
              "      <td>NaN</td>\n",
              "      <td>2018.000000</td>\n",
              "      <td>35.000000</td>\n",
              "      <td>92.600000</td>\n",
              "      <td>500000.000000</td>\n",
              "      <td>NaN</td>\n",
              "      <td>NaN</td>\n",
              "      <td>NaN</td>\n",
              "      <td>3.000000</td>\n",
              "    </tr>\n",
              "  </tbody>\n",
              "</table>\n",
              "</div>\n",
              "    <div class=\"colab-df-buttons\">\n",
              "\n",
              "  <div class=\"colab-df-container\">\n",
              "    <button class=\"colab-df-convert\" onclick=\"convertToInteractive('df-9cc1ddfc-f13f-4ec2-8af6-528dd00a22b6')\"\n",
              "            title=\"Convert this dataframe to an interactive table.\"\n",
              "            style=\"display:none;\">\n",
              "\n",
              "  <svg xmlns=\"http://www.w3.org/2000/svg\" height=\"24px\" viewBox=\"0 -960 960 960\">\n",
              "    <path d=\"M120-120v-720h720v720H120Zm60-500h600v-160H180v160Zm220 220h160v-160H400v160Zm0 220h160v-160H400v160ZM180-400h160v-160H180v160Zm440 0h160v-160H620v160ZM180-180h160v-160H180v160Zm440 0h160v-160H620v160Z\"/>\n",
              "  </svg>\n",
              "    </button>\n",
              "\n",
              "  <style>\n",
              "    .colab-df-container {\n",
              "      display:flex;\n",
              "      gap: 12px;\n",
              "    }\n",
              "\n",
              "    .colab-df-convert {\n",
              "      background-color: #E8F0FE;\n",
              "      border: none;\n",
              "      border-radius: 50%;\n",
              "      cursor: pointer;\n",
              "      display: none;\n",
              "      fill: #1967D2;\n",
              "      height: 32px;\n",
              "      padding: 0 0 0 0;\n",
              "      width: 32px;\n",
              "    }\n",
              "\n",
              "    .colab-df-convert:hover {\n",
              "      background-color: #E2EBFA;\n",
              "      box-shadow: 0px 1px 2px rgba(60, 64, 67, 0.3), 0px 1px 3px 1px rgba(60, 64, 67, 0.15);\n",
              "      fill: #174EA6;\n",
              "    }\n",
              "\n",
              "    .colab-df-buttons div {\n",
              "      margin-bottom: 4px;\n",
              "    }\n",
              "\n",
              "    [theme=dark] .colab-df-convert {\n",
              "      background-color: #3B4455;\n",
              "      fill: #D2E3FC;\n",
              "    }\n",
              "\n",
              "    [theme=dark] .colab-df-convert:hover {\n",
              "      background-color: #434B5C;\n",
              "      box-shadow: 0px 1px 3px 1px rgba(0, 0, 0, 0.15);\n",
              "      filter: drop-shadow(0px 1px 2px rgba(0, 0, 0, 0.3));\n",
              "      fill: #FFFFFF;\n",
              "    }\n",
              "  </style>\n",
              "\n",
              "    <script>\n",
              "      const buttonEl =\n",
              "        document.querySelector('#df-9cc1ddfc-f13f-4ec2-8af6-528dd00a22b6 button.colab-df-convert');\n",
              "      buttonEl.style.display =\n",
              "        google.colab.kernel.accessAllowed ? 'block' : 'none';\n",
              "\n",
              "      async function convertToInteractive(key) {\n",
              "        const element = document.querySelector('#df-9cc1ddfc-f13f-4ec2-8af6-528dd00a22b6');\n",
              "        const dataTable =\n",
              "          await google.colab.kernel.invokeFunction('convertToInteractive',\n",
              "                                                    [key], {});\n",
              "        if (!dataTable) return;\n",
              "\n",
              "        const docLinkHtml = 'Like what you see? Visit the ' +\n",
              "          '<a target=\"_blank\" href=https://colab.research.google.com/notebooks/data_table.ipynb>data table notebook</a>'\n",
              "          + ' to learn more about interactive tables.';\n",
              "        element.innerHTML = '';\n",
              "        dataTable['output_type'] = 'display_data';\n",
              "        await google.colab.output.renderOutput(dataTable, element);\n",
              "        const docLink = document.createElement('div');\n",
              "        docLink.innerHTML = docLinkHtml;\n",
              "        element.appendChild(docLink);\n",
              "      }\n",
              "    </script>\n",
              "  </div>\n",
              "\n",
              "\n",
              "    <div id=\"df-a73cd0c2-a4d6-4761-882b-683701bf385f\">\n",
              "      <button class=\"colab-df-quickchart\" onclick=\"quickchart('df-a73cd0c2-a4d6-4761-882b-683701bf385f')\"\n",
              "                title=\"Suggest charts\"\n",
              "                style=\"display:none;\">\n",
              "\n",
              "<svg xmlns=\"http://www.w3.org/2000/svg\" height=\"24px\"viewBox=\"0 0 24 24\"\n",
              "     width=\"24px\">\n",
              "    <g>\n",
              "        <path d=\"M19 3H5c-1.1 0-2 .9-2 2v14c0 1.1.9 2 2 2h14c1.1 0 2-.9 2-2V5c0-1.1-.9-2-2-2zM9 17H7v-7h2v7zm4 0h-2V7h2v10zm4 0h-2v-4h2v4z\"/>\n",
              "    </g>\n",
              "</svg>\n",
              "      </button>\n",
              "\n",
              "<style>\n",
              "  .colab-df-quickchart {\n",
              "      --bg-color: #E8F0FE;\n",
              "      --fill-color: #1967D2;\n",
              "      --hover-bg-color: #E2EBFA;\n",
              "      --hover-fill-color: #174EA6;\n",
              "      --disabled-fill-color: #AAA;\n",
              "      --disabled-bg-color: #DDD;\n",
              "  }\n",
              "\n",
              "  [theme=dark] .colab-df-quickchart {\n",
              "      --bg-color: #3B4455;\n",
              "      --fill-color: #D2E3FC;\n",
              "      --hover-bg-color: #434B5C;\n",
              "      --hover-fill-color: #FFFFFF;\n",
              "      --disabled-bg-color: #3B4455;\n",
              "      --disabled-fill-color: #666;\n",
              "  }\n",
              "\n",
              "  .colab-df-quickchart {\n",
              "    background-color: var(--bg-color);\n",
              "    border: none;\n",
              "    border-radius: 50%;\n",
              "    cursor: pointer;\n",
              "    display: none;\n",
              "    fill: var(--fill-color);\n",
              "    height: 32px;\n",
              "    padding: 0;\n",
              "    width: 32px;\n",
              "  }\n",
              "\n",
              "  .colab-df-quickchart:hover {\n",
              "    background-color: var(--hover-bg-color);\n",
              "    box-shadow: 0 1px 2px rgba(60, 64, 67, 0.3), 0 1px 3px 1px rgba(60, 64, 67, 0.15);\n",
              "    fill: var(--button-hover-fill-color);\n",
              "  }\n",
              "\n",
              "  .colab-df-quickchart-complete:disabled,\n",
              "  .colab-df-quickchart-complete:disabled:hover {\n",
              "    background-color: var(--disabled-bg-color);\n",
              "    fill: var(--disabled-fill-color);\n",
              "    box-shadow: none;\n",
              "  }\n",
              "\n",
              "  .colab-df-spinner {\n",
              "    border: 2px solid var(--fill-color);\n",
              "    border-color: transparent;\n",
              "    border-bottom-color: var(--fill-color);\n",
              "    animation:\n",
              "      spin 1s steps(1) infinite;\n",
              "  }\n",
              "\n",
              "  @keyframes spin {\n",
              "    0% {\n",
              "      border-color: transparent;\n",
              "      border-bottom-color: var(--fill-color);\n",
              "      border-left-color: var(--fill-color);\n",
              "    }\n",
              "    20% {\n",
              "      border-color: transparent;\n",
              "      border-left-color: var(--fill-color);\n",
              "      border-top-color: var(--fill-color);\n",
              "    }\n",
              "    30% {\n",
              "      border-color: transparent;\n",
              "      border-left-color: var(--fill-color);\n",
              "      border-top-color: var(--fill-color);\n",
              "      border-right-color: var(--fill-color);\n",
              "    }\n",
              "    40% {\n",
              "      border-color: transparent;\n",
              "      border-right-color: var(--fill-color);\n",
              "      border-top-color: var(--fill-color);\n",
              "    }\n",
              "    60% {\n",
              "      border-color: transparent;\n",
              "      border-right-color: var(--fill-color);\n",
              "    }\n",
              "    80% {\n",
              "      border-color: transparent;\n",
              "      border-right-color: var(--fill-color);\n",
              "      border-bottom-color: var(--fill-color);\n",
              "    }\n",
              "    90% {\n",
              "      border-color: transparent;\n",
              "      border-bottom-color: var(--fill-color);\n",
              "    }\n",
              "  }\n",
              "</style>\n",
              "\n",
              "      <script>\n",
              "        async function quickchart(key) {\n",
              "          const quickchartButtonEl =\n",
              "            document.querySelector('#' + key + ' button');\n",
              "          quickchartButtonEl.disabled = true;  // To prevent multiple clicks.\n",
              "          quickchartButtonEl.classList.add('colab-df-spinner');\n",
              "          try {\n",
              "            const charts = await google.colab.kernel.invokeFunction(\n",
              "                'suggestCharts', [key], {});\n",
              "          } catch (error) {\n",
              "            console.error('Error during call to suggestCharts:', error);\n",
              "          }\n",
              "          quickchartButtonEl.classList.remove('colab-df-spinner');\n",
              "          quickchartButtonEl.classList.add('colab-df-quickchart-complete');\n",
              "        }\n",
              "        (() => {\n",
              "          let quickchartButtonEl =\n",
              "            document.querySelector('#df-a73cd0c2-a4d6-4761-882b-683701bf385f button');\n",
              "          quickchartButtonEl.style.display =\n",
              "            google.colab.kernel.accessAllowed ? 'block' : 'none';\n",
              "        })();\n",
              "      </script>\n",
              "    </div>\n",
              "\n",
              "    </div>\n",
              "  </div>\n"
            ],
            "application/vnd.google.colaboratory.intrinsic+json": {
              "type": "dataframe",
              "summary": "{\n  \"name\": \"display(data\",\n  \"rows\": 11,\n  \"fields\": [\n    {\n      \"column\": \"Car_Name\",\n      \"properties\": {\n        \"dtype\": \"category\",\n        \"num_unique_values\": 4,\n        \"samples\": [\n          98,\n          \"26\",\n          \"301\"\n        ],\n        \"semantic_type\": \"\",\n        \"description\": \"\"\n      }\n    },\n    {\n      \"column\": \"Year\",\n      \"properties\": {\n        \"dtype\": \"number\",\n        \"std\": 865.0828154405388,\n        \"min\": 2.891554127336682,\n        \"max\": 2018.0,\n        \"num_unique_values\": 8,\n        \"samples\": [\n          2013.6279069767443,\n          2014.0,\n          301.0\n        ],\n        \"semantic_type\": \"\",\n        \"description\": \"\"\n      }\n    },\n    {\n      \"column\": \"Selling_Price\",\n      \"properties\": {\n        \"dtype\": \"number\",\n        \"std\": 104.23236562425842,\n        \"min\": 0.1,\n        \"max\": 301.0,\n        \"num_unique_values\": 8,\n        \"samples\": [\n          4.661295681063123,\n          3.6,\n          301.0\n        ],\n        \"semantic_type\": \"\",\n        \"description\": \"\"\n      }\n    },\n    {\n      \"column\": \"Present_Price\",\n      \"properties\": {\n        \"dtype\": \"number\",\n        \"std\": 104.59723300986235,\n        \"min\": 0.32,\n        \"max\": 301.0,\n        \"num_unique_values\": 8,\n        \"samples\": [\n          7.628471760797343,\n          6.4,\n          301.0\n        ],\n        \"semantic_type\": \"\",\n        \"description\": \"\"\n      }\n    },\n    {\n      \"column\": \"Kms_Driven\",\n      \"properties\": {\n        \"dtype\": \"number\",\n        \"std\": 169026.31889375782,\n        \"min\": 301.0,\n        \"max\": 500000.0,\n        \"num_unique_values\": 8,\n        \"samples\": [\n          36947.20598006644,\n          32000.0,\n          301.0\n        ],\n        \"semantic_type\": \"\",\n        \"description\": \"\"\n      }\n    },\n    {\n      \"column\": \"Fuel_Type\",\n      \"properties\": {\n        \"dtype\": \"category\",\n        \"num_unique_values\": 4,\n        \"samples\": [\n          3,\n          \"239\",\n          \"301\"\n        ],\n        \"semantic_type\": \"\",\n        \"description\": \"\"\n      }\n    },\n    {\n      \"column\": \"Seller_Type\",\n      \"properties\": {\n        \"dtype\": \"category\",\n        \"num_unique_values\": 4,\n        \"samples\": [\n          2,\n          \"195\",\n          \"301\"\n        ],\n        \"semantic_type\": \"\",\n        \"description\": \"\"\n      }\n    },\n    {\n      \"column\": \"Transmission\",\n      \"properties\": {\n        \"dtype\": \"category\",\n        \"num_unique_values\": 4,\n        \"samples\": [\n          2,\n          \"261\",\n          \"301\"\n        ],\n        \"semantic_type\": \"\",\n        \"description\": \"\"\n      }\n    },\n    {\n      \"column\": \"Owner\",\n      \"properties\": {\n        \"dtype\": \"number\",\n        \"std\": 106.25839718786119,\n        \"min\": 0.0,\n        \"max\": 301.0,\n        \"num_unique_values\": 5,\n        \"samples\": [\n          0.04318936877076412,\n          3.0,\n          0.2479148926949208\n        ],\n        \"semantic_type\": \"\",\n        \"description\": \"\"\n      }\n    }\n  ]\n}"
            }
          },
          "metadata": {}
        }
      ]
    },
    {
      "cell_type": "markdown",
      "source": [
        "#4. Data Visualization\n",
        "\n",
        "Visualize relationships between features and the target variable (Selling Price)."
      ],
      "metadata": {
        "id": "GD_5WZWa8VtK"
      }
    },
    {
      "cell_type": "code",
      "source": [
        "plt.figure(figsize=(8,6))\n",
        "sns.histplot(data['Selling_Price'], bins=20, kde=True)\n",
        "plt.title('Distribution of Selling Price')\n",
        "plt.xlabel('Selling Price (in Lakhs)')\n",
        "plt.show()\n",
        "plt.figure(figsize=(8,6))\n",
        "sns.scatterplot(x='Present_Price', y='Selling_Price', data=data, hue='Fuel_Type')\n",
        "plt.title('Present Price vs Selling Price')\n",
        "plt.show()"
      ],
      "metadata": {
        "colab": {
          "base_uri": "https://localhost:8080/",
          "height": 1000
        },
        "id": "cYTluBiX6koV",
        "outputId": "09ba2327-652e-4de1-febb-40b99e0e4516"
      },
      "execution_count": 24,
      "outputs": [
        {
          "output_type": "display_data",
          "data": {
            "text/plain": [
              "<Figure size 800x600 with 1 Axes>"
            ],
            "image/png": "[encoded data removed]"
          },
          "metadata": {}
        },
        {
          "output_type": "display_data",
          "data": {
            "text/plain": [
              "<Figure size 800x600 with 1 Axes>"
            ],
            "image/png": "[encoded data removed]"
          },
          "metadata": {}
        }
      ]
    },
    {
      "cell_type": "markdown",
      "source": [
        "#5. Dataset Preparation\n",
        "\n",
        "- Encode categorical variables\n",
        "\n",
        "- Split into Train, Validation, and Test sets"
      ],
      "metadata": {
        "id": "7bUDfo-X8p_D"
      }
    },
    {
      "cell_type": "code",
      "source": [
        "X = data.drop('Selling_Price', axis=1)\n",
        "y = data['Selling_Price']"
      ],
      "metadata": {
        "id": "e3WWI-YrIcOi"
      },
      "execution_count": 25,
      "outputs": []
    },
    {
      "cell_type": "code",
      "source": [
        "cat_cols = ['Fuel_Type', 'Seller_Type', 'Transmission']\n",
        "num_cols = [col for col in X.columns if col not in cat_cols]"
      ],
      "metadata": {
        "id": "lasfpdB7Ihj-"
      },
      "execution_count": 26,
      "outputs": []
    },
    {
      "cell_type": "code",
      "source": [
        "preprocessor = ColumnTransformer([\n",
        "('cat', OneHotEncoder(drop='first'), cat_cols),\n",
        "('num', StandardScaler(), num_cols)\n",
        "])"
      ],
      "metadata": {
        "id": "kIu5lGi8Ik2X"
      },
      "execution_count": 27,
      "outputs": []
    },
    {
      "cell_type": "code",
      "source": [
        "X_train, X_temp, y_train, y_temp = train_test_split(X, y, test_size=0.3, random_state=42)\n",
        "X_val, X_test, y_val, y_test = train_test_split(X_temp, y_temp, test_size=0.5, random_state=42)\n",
        "\n",
        "\n",
        "print('Train size:', X_train.shape)\n",
        "print('Validation size:', X_val.shape)\n",
        "print('Test size:', X_test.shape)"
      ],
      "metadata": {
        "colab": {
          "base_uri": "https://localhost:8080/"
        },
        "id": "AJEGdzn_In2h",
        "outputId": "bb6150a0-46da-43bf-dbb1-be8119afea66"
      },
      "execution_count": 28,
      "outputs": [
        {
          "output_type": "stream",
          "name": "stdout",
          "text": [
            "Train size: (210, 8)\n",
            "Validation size: (45, 8)\n",
            "Test size: (46, 8)\n"
          ]
        }
      ]
    },
    {
      "cell_type": "markdown",
      "source": [
        "#6. Model Building\n",
        "\n",
        "Create a Deep Neural Network for regression."
      ],
      "metadata": {
        "id": "iThRKvvzIxIn"
      }
    },
    {
      "cell_type": "code",
      "source": [
        "def build_model(input_dim):\n",
        "  model = Sequential([\n",
        "    Dense(128, activation='relu', input_dim=input_dim),\n",
        "    Dropout(0.2),\n",
        "    Dense(64, activation='relu'),\n",
        "    Dense(32, activation='relu'),\n",
        "    Dense(1, activation='linear')\n",
        "  ])\n",
        "  model.compile(optimizer='adam', loss='mse', metrics=['mae'])\n",
        "  return model"
      ],
      "metadata": {
        "id": "IHEljjbFI5Yx"
      },
      "execution_count": 33,
      "outputs": []
    },
    {
      "cell_type": "code",
      "source": [
        "num_cols = [col for col in X.columns if col not in cat_cols + ['Car_Name']]\n",
        "preprocessor = ColumnTransformer([\n",
        "('cat', OneHotEncoder(handle_unknown='ignore', drop='first'), cat_cols),\n",
        "('num', StandardScaler(), num_cols)\n",
        "])\n",
        "\n",
        "X_train_proc = preprocessor.fit_transform(X_train)\n",
        "input_dim = X_train_proc.shape[1]\n",
        "\n",
        "\n",
        "model = build_model(input_dim)\n",
        "model.summary()"
      ],
      "metadata": {
        "colab": {
          "base_uri": "https://localhost:8080/",
          "height": 344
        },
        "id": "XBAd04zFJsBD",
        "outputId": "9ca0da34-f240-42bb-8707-3714180b5a40"
      },
      "execution_count": 40,
      "outputs": [
        {
          "output_type": "stream",
          "name": "stderr",
          "text": [
            "/usr/local/lib/python3.12/dist-packages/keras/src/layers/core/dense.py:93: UserWarning: Do not pass an `input_shape`/`input_dim` argument to a layer. When using Sequential models, prefer using an `Input(shape)` object as the first layer in the model instead.\n",
            "  super().__init__(activity_regularizer=activity_regularizer, **kwargs)\n"
          ]
        },
        {
          "output_type": "display_data",
          "data": {
            "text/plain": [
              "\u001b[1mModel: \"sequential_2\"\u001b[0m\n"
            ],
            "text/html": [
              "<pre style=\"white-space:pre;overflow-x:auto;line-height:normal;font-family:Menlo,'DejaVu Sans Mono',consolas,'Courier New',monospace\"><span style=\"font-weight: bold\">Model: \"sequential_2\"</span>\n",
              "</pre>\n"
            ]
          },
          "metadata": {}
        },
        {
          "output_type": "display_data",
          "data": {
            "text/plain": [
              "┏━━━━━━━━━━━━━━━━━━━━━━━━━━━━━━━━━┳━━━━━━━━━━━━━━━━━━━━━━━━┳━━━━━━━━━━━━━━━┓\n",
              "┃\u001b[1m \u001b[0m\u001b[1mLayer (type)                   \u001b[0m\u001b[1m \u001b[0m┃\u001b[1m \u001b[0m\u001b[1mOutput Shape          \u001b[0m\u001b[1m \u001b[0m┃\u001b[1m \u001b[0m\u001b[1m      Param #\u001b[0m\u001b[1m \u001b[0m┃\n",
              "┡━━━━━━━━━━━━━━━━━━━━━━━━━━━━━━━━━╇━━━━━━━━━━━━━━━━━━━━━━━━╇━━━━━━━━━━━━━━━┩\n",
              "│ dense_8 (\u001b[38;5;33mDense\u001b[0m)                 │ (\u001b[38;5;45mNone\u001b[0m, \u001b[38;5;34m128\u001b[0m)            │         \u001b[38;5;34m1,280\u001b[0m │\n",
              "├─────────────────────────────────┼────────────────────────┼───────────────┤\n",
              "│ dropout_2 (\u001b[38;5;33mDropout\u001b[0m)             │ (\u001b[38;5;45mNone\u001b[0m, \u001b[38;5;34m128\u001b[0m)            │             \u001b[38;5;34m0\u001b[0m │\n",
              "├─────────────────────────────────┼────────────────────────┼───────────────┤\n",
              "│ dense_9 (\u001b[38;5;33mDense\u001b[0m)                 │ (\u001b[38;5;45mNone\u001b[0m, \u001b[38;5;34m64\u001b[0m)             │         \u001b[38;5;34m8,256\u001b[0m │\n",
              "├─────────────────────────────────┼────────────────────────┼───────────────┤\n",
              "│ dense_10 (\u001b[38;5;33mDense\u001b[0m)                │ (\u001b[38;5;45mNone\u001b[0m, \u001b[38;5;34m32\u001b[0m)             │         \u001b[38;5;34m2,080\u001b[0m │\n",
              "├─────────────────────────────────┼────────────────────────┼───────────────┤\n",
              "│ dense_11 (\u001b[38;5;33mDense\u001b[0m)                │ (\u001b[38;5;45mNone\u001b[0m, \u001b[38;5;34m1\u001b[0m)              │            \u001b[38;5;34m33\u001b[0m │\n",
              "└─────────────────────────────────┴────────────────────────┴───────────────┘\n"
            ],
            "text/html": [
              "<pre style=\"white-space:pre;overflow-x:auto;line-height:normal;font-family:Menlo,'DejaVu Sans Mono',consolas,'Courier New',monospace\">┏━━━━━━━━━━━━━━━━━━━━━━━━━━━━━━━━━┳━━━━━━━━━━━━━━━━━━━━━━━━┳━━━━━━━━━━━━━━━┓\n",
              "┃<span style=\"font-weight: bold\"> Layer (type)                    </span>┃<span style=\"font-weight: bold\"> Output Shape           </span>┃<span style=\"font-weight: bold\">       Param # </span>┃\n",
              "┡━━━━━━━━━━━━━━━━━━━━━━━━━━━━━━━━━╇━━━━━━━━━━━━━━━━━━━━━━━━╇━━━━━━━━━━━━━━━┩\n",
              "│ dense_8 (<span style=\"color: #0087ff; text-decoration-color: #0087ff\">Dense</span>)                 │ (<span style=\"color: #00d7ff; text-decoration-color: #00d7ff\">None</span>, <span style=\"color: #00af00; text-decoration-color: #00af00\">128</span>)            │         <span style=\"color: #00af00; text-decoration-color: #00af00\">1,280</span> │\n",
              "├─────────────────────────────────┼────────────────────────┼───────────────┤\n",
              "│ dropout_2 (<span style=\"color: #0087ff; text-decoration-color: #0087ff\">Dropout</span>)             │ (<span style=\"color: #00d7ff; text-decoration-color: #00d7ff\">None</span>, <span style=\"color: #00af00; text-decoration-color: #00af00\">128</span>)            │             <span style=\"color: #00af00; text-decoration-color: #00af00\">0</span> │\n",
              "├─────────────────────────────────┼────────────────────────┼───────────────┤\n",
              "│ dense_9 (<span style=\"color: #0087ff; text-decoration-color: #0087ff\">Dense</span>)                 │ (<span style=\"color: #00d7ff; text-decoration-color: #00d7ff\">None</span>, <span style=\"color: #00af00; text-decoration-color: #00af00\">64</span>)             │         <span style=\"color: #00af00; text-decoration-color: #00af00\">8,256</span> │\n",
              "├─────────────────────────────────┼────────────────────────┼───────────────┤\n",
              "│ dense_10 (<span style=\"color: #0087ff; text-decoration-color: #0087ff\">Dense</span>)                │ (<span style=\"color: #00d7ff; text-decoration-color: #00d7ff\">None</span>, <span style=\"color: #00af00; text-decoration-color: #00af00\">32</span>)             │         <span style=\"color: #00af00; text-decoration-color: #00af00\">2,080</span> │\n",
              "├─────────────────────────────────┼────────────────────────┼───────────────┤\n",
              "│ dense_11 (<span style=\"color: #0087ff; text-decoration-color: #0087ff\">Dense</span>)                │ (<span style=\"color: #00d7ff; text-decoration-color: #00d7ff\">None</span>, <span style=\"color: #00af00; text-decoration-color: #00af00\">1</span>)              │            <span style=\"color: #00af00; text-decoration-color: #00af00\">33</span> │\n",
              "└─────────────────────────────────┴────────────────────────┴───────────────┘\n",
              "</pre>\n"
            ]
          },
          "metadata": {}
        },
        {
          "output_type": "display_data",
          "data": {
            "text/plain": [
              "\u001b[1m Total params: \u001b[0m\u001b[38;5;34m11,649\u001b[0m (45.50 KB)\n"
            ],
            "text/html": [
              "<pre style=\"white-space:pre;overflow-x:auto;line-height:normal;font-family:Menlo,'DejaVu Sans Mono',consolas,'Courier New',monospace\"><span style=\"font-weight: bold\"> Total params: </span><span style=\"color: #00af00; text-decoration-color: #00af00\">11,649</span> (45.50 KB)\n",
              "</pre>\n"
            ]
          },
          "metadata": {}
        },
        {
          "output_type": "display_data",
          "data": {
            "text/plain": [
              "\u001b[1m Trainable params: \u001b[0m\u001b[38;5;34m11,649\u001b[0m (45.50 KB)\n"
            ],
            "text/html": [
              "<pre style=\"white-space:pre;overflow-x:auto;line-height:normal;font-family:Menlo,'DejaVu Sans Mono',consolas,'Courier New',monospace\"><span style=\"font-weight: bold\"> Trainable params: </span><span style=\"color: #00af00; text-decoration-color: #00af00\">11,649</span> (45.50 KB)\n",
              "</pre>\n"
            ]
          },
          "metadata": {}
        },
        {
          "output_type": "display_data",
          "data": {
            "text/plain": [
              "\u001b[1m Non-trainable params: \u001b[0m\u001b[38;5;34m0\u001b[0m (0.00 B)\n"
            ],
            "text/html": [
              "<pre style=\"white-space:pre;overflow-x:auto;line-height:normal;font-family:Menlo,'DejaVu Sans Mono',consolas,'Courier New',monospace\"><span style=\"font-weight: bold\"> Non-trainable params: </span><span style=\"color: #00af00; text-decoration-color: #00af00\">0</span> (0.00 B)\n",
              "</pre>\n"
            ]
          },
          "metadata": {}
        }
      ]
    },
    {
      "cell_type": "markdown",
      "source": [
        "#7. Training and Validation\n",
        "\n",
        "Train the model using the training and validation datasets."
      ],
      "metadata": {
        "id": "uQUauln9T970"
      }
    },
    {
      "cell_type": "code",
      "source": [
        "history = model.fit(\n",
        "X_train_proc, y_train,\n",
        "validation_data=(preprocessor.transform(X_val), y_val),\n",
        "epochs=50,\n",
        "batch_size=32,\n",
        "verbose=2\n",
        ")"
      ],
      "metadata": {
        "colab": {
          "base_uri": "https://localhost:8080/"
        },
        "id": "ktZbsZ5BUG2s",
        "outputId": "87375e39-cb15-4108-f64e-bcffa89ec1ce"
      },
      "execution_count": 57,
      "outputs": [
        {
          "output_type": "stream",
          "name": "stdout",
          "text": [
            "Epoch 1/50\n",
            "7/7 - 0s - 33ms/step - loss: 0.5187 - mae: 0.5209 - val_loss: 0.5148 - val_mae: 0.5220\n",
            "Epoch 2/50\n",
            "7/7 - 0s - 21ms/step - loss: 0.6198 - mae: 0.5215 - val_loss: 0.5219 - val_mae: 0.5208\n",
            "Epoch 3/50\n",
            "7/7 - 0s - 20ms/step - loss: 0.4873 - mae: 0.4757 - val_loss: 0.4794 - val_mae: 0.5197\n",
            "Epoch 4/50\n",
            "7/7 - 0s - 24ms/step - loss: 0.5743 - mae: 0.5347 - val_loss: 0.5263 - val_mae: 0.5263\n",
            "Epoch 5/50\n",
            "7/7 - 0s - 49ms/step - loss: 0.6060 - mae: 0.5254 - val_loss: 0.5073 - val_mae: 0.5266\n",
            "Epoch 6/50\n",
            "7/7 - 0s - 33ms/step - loss: 0.4794 - mae: 0.4605 - val_loss: 0.5006 - val_mae: 0.5276\n",
            "Epoch 7/50\n",
            "7/7 - 0s - 15ms/step - loss: 0.5264 - mae: 0.5244 - val_loss: 0.5255 - val_mae: 0.5413\n",
            "Epoch 8/50\n",
            "7/7 - 0s - 15ms/step - loss: 0.4667 - mae: 0.4686 - val_loss: 0.5245 - val_mae: 0.5385\n",
            "Epoch 9/50\n",
            "7/7 - 0s - 15ms/step - loss: 0.5751 - mae: 0.5293 - val_loss: 0.5386 - val_mae: 0.5291\n",
            "Epoch 10/50\n",
            "7/7 - 0s - 14ms/step - loss: 0.6049 - mae: 0.5268 - val_loss: 0.5350 - val_mae: 0.5121\n",
            "Epoch 11/50\n",
            "7/7 - 0s - 14ms/step - loss: 0.5759 - mae: 0.5310 - val_loss: 0.4811 - val_mae: 0.5084\n",
            "Epoch 12/50\n",
            "7/7 - 0s - 20ms/step - loss: 0.5877 - mae: 0.4863 - val_loss: 0.4872 - val_mae: 0.5119\n",
            "Epoch 13/50\n",
            "7/7 - 0s - 15ms/step - loss: 0.5135 - mae: 0.4718 - val_loss: 0.4686 - val_mae: 0.5148\n",
            "Epoch 14/50\n",
            "7/7 - 0s - 15ms/step - loss: 0.4477 - mae: 0.4737 - val_loss: 0.5345 - val_mae: 0.5350\n",
            "Epoch 15/50\n",
            "7/7 - 0s - 14ms/step - loss: 0.4782 - mae: 0.4833 - val_loss: 0.5423 - val_mae: 0.5325\n",
            "Epoch 16/50\n",
            "7/7 - 0s - 15ms/step - loss: 0.7485 - mae: 0.5612 - val_loss: 0.4749 - val_mae: 0.5155\n",
            "Epoch 17/50\n",
            "7/7 - 0s - 15ms/step - loss: 0.4439 - mae: 0.4947 - val_loss: 0.5112 - val_mae: 0.5157\n",
            "Epoch 18/50\n",
            "7/7 - 0s - 15ms/step - loss: 0.6075 - mae: 0.5208 - val_loss: 0.5082 - val_mae: 0.5048\n",
            "Epoch 19/50\n",
            "7/7 - 0s - 15ms/step - loss: 0.4629 - mae: 0.4875 - val_loss: 0.4332 - val_mae: 0.5021\n",
            "Epoch 20/50\n",
            "7/7 - 0s - 15ms/step - loss: 0.4346 - mae: 0.4643 - val_loss: 0.6232 - val_mae: 0.5329\n",
            "Epoch 21/50\n",
            "7/7 - 0s - 16ms/step - loss: 0.6109 - mae: 0.5272 - val_loss: 0.4431 - val_mae: 0.5022\n",
            "Epoch 22/50\n",
            "7/7 - 0s - 16ms/step - loss: 0.4916 - mae: 0.4876 - val_loss: 0.5517 - val_mae: 0.5343\n",
            "Epoch 23/50\n",
            "7/7 - 0s - 15ms/step - loss: 0.5204 - mae: 0.4983 - val_loss: 0.5242 - val_mae: 0.5156\n",
            "Epoch 24/50\n",
            "7/7 - 0s - 15ms/step - loss: 0.4687 - mae: 0.4685 - val_loss: 0.4677 - val_mae: 0.5037\n",
            "Epoch 25/50\n",
            "7/7 - 0s - 15ms/step - loss: 0.5352 - mae: 0.5008 - val_loss: 0.5442 - val_mae: 0.5169\n",
            "Epoch 26/50\n",
            "7/7 - 0s - 15ms/step - loss: 0.5613 - mae: 0.4907 - val_loss: 0.4593 - val_mae: 0.5110\n",
            "Epoch 27/50\n",
            "7/7 - 0s - 15ms/step - loss: 0.4640 - mae: 0.4533 - val_loss: 0.5110 - val_mae: 0.5163\n",
            "Epoch 28/50\n",
            "7/7 - 0s - 15ms/step - loss: 0.6278 - mae: 0.5257 - val_loss: 0.5350 - val_mae: 0.5171\n",
            "Epoch 29/50\n",
            "7/7 - 0s - 15ms/step - loss: 0.4459 - mae: 0.4756 - val_loss: 0.5046 - val_mae: 0.5078\n",
            "Epoch 30/50\n",
            "7/7 - 0s - 15ms/step - loss: 0.5507 - mae: 0.5238 - val_loss: 0.4577 - val_mae: 0.4987\n",
            "Epoch 31/50\n",
            "7/7 - 0s - 18ms/step - loss: 0.5589 - mae: 0.5039 - val_loss: 0.4455 - val_mae: 0.5036\n",
            "Epoch 32/50\n",
            "7/7 - 0s - 14ms/step - loss: 0.4522 - mae: 0.4754 - val_loss: 0.4838 - val_mae: 0.5115\n",
            "Epoch 33/50\n",
            "7/7 - 0s - 14ms/step - loss: 0.5453 - mae: 0.4720 - val_loss: 0.4517 - val_mae: 0.4948\n",
            "Epoch 34/50\n",
            "7/7 - 0s - 16ms/step - loss: 0.4824 - mae: 0.4964 - val_loss: 0.4486 - val_mae: 0.4893\n",
            "Epoch 35/50\n",
            "7/7 - 0s - 14ms/step - loss: 0.4119 - mae: 0.4567 - val_loss: 0.4672 - val_mae: 0.4914\n",
            "Epoch 36/50\n",
            "7/7 - 0s - 15ms/step - loss: 0.4591 - mae: 0.4677 - val_loss: 0.4791 - val_mae: 0.4915\n",
            "Epoch 37/50\n",
            "7/7 - 0s - 15ms/step - loss: 0.6573 - mae: 0.5244 - val_loss: 0.5556 - val_mae: 0.5138\n",
            "Epoch 38/50\n",
            "7/7 - 0s - 14ms/step - loss: 0.5317 - mae: 0.5092 - val_loss: 0.4254 - val_mae: 0.4807\n",
            "Epoch 39/50\n",
            "7/7 - 0s - 15ms/step - loss: 0.5428 - mae: 0.5137 - val_loss: 0.4994 - val_mae: 0.5055\n",
            "Epoch 40/50\n",
            "7/7 - 0s - 18ms/step - loss: 0.4898 - mae: 0.4507 - val_loss: 0.4727 - val_mae: 0.4993\n",
            "Epoch 41/50\n",
            "7/7 - 0s - 14ms/step - loss: 0.4813 - mae: 0.4342 - val_loss: 0.4871 - val_mae: 0.5052\n",
            "Epoch 42/50\n",
            "7/7 - 0s - 14ms/step - loss: 0.4813 - mae: 0.4800 - val_loss: 0.4215 - val_mae: 0.4814\n",
            "Epoch 43/50\n",
            "7/7 - 0s - 15ms/step - loss: 0.4873 - mae: 0.4738 - val_loss: 0.4838 - val_mae: 0.5026\n",
            "Epoch 44/50\n",
            "7/7 - 0s - 15ms/step - loss: 0.4602 - mae: 0.4988 - val_loss: 0.4335 - val_mae: 0.4901\n",
            "Epoch 45/50\n",
            "7/7 - 0s - 15ms/step - loss: 0.5736 - mae: 0.4903 - val_loss: 0.4280 - val_mae: 0.4952\n",
            "Epoch 46/50\n",
            "7/7 - 0s - 15ms/step - loss: 0.4366 - mae: 0.4567 - val_loss: 0.5837 - val_mae: 0.5443\n",
            "Epoch 47/50\n",
            "7/7 - 0s - 19ms/step - loss: 0.5306 - mae: 0.4959 - val_loss: 0.4622 - val_mae: 0.5004\n",
            "Epoch 48/50\n",
            "7/7 - 0s - 15ms/step - loss: 0.3917 - mae: 0.4456 - val_loss: 0.4154 - val_mae: 0.4879\n",
            "Epoch 49/50\n",
            "7/7 - 0s - 21ms/step - loss: 0.4578 - mae: 0.4741 - val_loss: 0.5375 - val_mae: 0.4996\n",
            "Epoch 50/50\n",
            "7/7 - 0s - 16ms/step - loss: 0.5460 - mae: 0.4710 - val_loss: 0.4266 - val_mae: 0.4951\n"
          ]
        }
      ]
    },
    {
      "cell_type": "markdown",
      "source": [
        "#8. Learning Curve Evaluation (Loss and MAE)"
      ],
      "metadata": {
        "id": "zygazHu5M7SX"
      }
    },
    {
      "cell_type": "code",
      "source": [
        "plt.figure(figsize=(12,5))\n",
        "plt.subplot(1,2,1)\n",
        "plt.plot(history.history['loss'], label='Train Loss')\n",
        "plt.plot(history.history['val_loss'], label='Val Loss')\n",
        "plt.xlabel('Epochs')\n",
        "plt.ylabel('MSE Loss')\n",
        "plt.legend()\n",
        "plt.title('Training vs Validation Loss')"
      ],
      "metadata": {
        "colab": {
          "base_uri": "https://localhost:8080/",
          "height": 504
        },
        "id": "sgZAKSRTM_Sx",
        "outputId": "ff7521f5-2f7c-4858-b33d-460021c6c31a"
      },
      "execution_count": 41,
      "outputs": [
        {
          "output_type": "execute_result",
          "data": {
            "text/plain": [
              "Text(0.5, 1.0, 'Training vs Validation Loss')"
            ]
          },
          "metadata": {},
          "execution_count": 41
        },
        {
          "output_type": "display_data",
          "data": {
            "text/plain": [
              "<Figure size 1200x500 with 1 Axes>"
            ],
            "image/png": "[encoded data removed]"
          },
          "metadata": {}
        }
      ]
    },
    {
      "cell_type": "code",
      "metadata": {
        "id": "d0d2a602"
      },
      "source": [
        "# Preprocess validation and test data\n",
        "X_val_proc = preprocessor.transform(X_val)\n",
        "\n",
        "# Train the model\n",
        "history = model.fit(X_train_proc, y_train,\n",
        "                    epochs=100,\n",
        "                    batch_size=32,\n",
        "                    validation_data=(X_val_proc, y_val),\n",
        "                    verbose=0)"
      ],
      "execution_count": 42,
      "outputs": []
    },
    {
      "cell_type": "code",
      "source": [
        "plt.subplot(1,2,2)\n",
        "plt.plot(history.history['mae'], label='Train MAE')\n",
        "plt.plot(history.history['val_mae'], label='Val MAE')\n",
        "plt.xlabel('Epochs')\n",
        "plt.ylabel('MAE')\n",
        "plt.legend()\n",
        "plt.title('Training vs Validation MAE')\n",
        "plt.show()"
      ],
      "metadata": {
        "colab": {
          "base_uri": "https://localhost:8080/",
          "height": 472
        },
        "id": "vyva2PN7Nb1Q",
        "outputId": "19769438-b111-4093-e644-64f15c12b9c7"
      },
      "execution_count": 43,
      "outputs": [
        {
          "output_type": "display_data",
          "data": {
            "text/plain": [
              "<Figure size 640x480 with 1 Axes>"
            ],
            "image/png": "[encoded data removed]"
          },
          "metadata": {}
        }
      ]
    },
    {
      "cell_type": "markdown",
      "source": [
        "#9. Testing and Evaluation\n",
        "\n",
        " Evaluate model performance on the unseen test dataset."
      ],
      "metadata": {
        "id": "ilknZBWuNzX9"
      }
    },
    {
      "cell_type": "code",
      "source": [
        "X_test_proc = preprocessor.transform(X_test)\n",
        "y_pred = model.predict(X_test_proc).flatten()\n",
        "\n",
        "mse = mean_squared_error(y_test, y_pred)\n",
        "mae = mean_absolute_error(y_test, y_pred)\n",
        "r2 = r2_score(y_test, y_pred)\n",
        "\n",
        "print(f'MSE: {mse:.3f}\\nMAE: {mae:.3f}\\nR²: {r2:.3f}')"
      ],
      "metadata": {
        "colab": {
          "base_uri": "https://localhost:8080/"
        },
        "id": "4QtzyFhYN36c",
        "outputId": "d05bba06-b613-42d6-a48a-fb4933d5b1fb"
      },
      "execution_count": 46,
      "outputs": [
        {
          "output_type": "stream",
          "name": "stdout",
          "text": [
            "\u001b[1m2/2\u001b[0m \u001b[32m━━━━━━━━━━━━━━━━━━━━\u001b[0m\u001b[37m\u001b[0m \u001b[1m0s\u001b[0m 31ms/step\n",
            "MSE: 0.461\n",
            "MAE: 0.490\n",
            "R²: 0.985\n"
          ]
        }
      ]
    },
    {
      "cell_type": "code",
      "source": [
        "plt.figure(figsize=(6,6))\n",
        "plt.scatter(y_test, y_pred, alpha=0.6)\n",
        "plt.plot([y_test.min(), y_test.max()], [y_test.min(), y_test.max()], 'r--')\n",
        "plt.xlabel('Actual Price')\n",
        "plt.ylabel('Predicted Price')\n",
        "plt.title('Actual vs Predicted Car Prices')\n",
        "plt.show()"
      ],
      "metadata": {
        "colab": {
          "base_uri": "https://localhost:8080/",
          "height": 564
        },
        "id": "yYvaHd6NOegh",
        "outputId": "52a8e4d3-6784-4ac3-a3f0-5d70824e42e8"
      },
      "execution_count": 47,
      "outputs": [
        {
          "output_type": "display_data",
          "data": {
            "text/plain": [
              "<Figure size 600x600 with 1 Axes>"
            ],
            "image/png": "[encoded data removed]"
          },
          "metadata": {}
        }
      ]
    },
    {
      "cell_type": "markdown",
      "source": [
        "#10. Deployment: Streamlit Web App\n",
        "\n",
        "A simple web interface for predicting car price based on user inputs."
      ],
      "metadata": {
        "id": "d10a2WR8OjGm"
      }
    },
    {
      "cell_type": "code",
      "source": [
        "streamlit_code = r\"\"\"\n",
        "import streamlit as st\n",
        "import pandas as pd\n",
        "import numpy as np\n",
        "import tensorflow as tf\n",
        "from sklearn.preprocessing import StandardScaler, OneHotEncoder\n",
        "from sklearn.compose import ColumnTransformer\n",
        "import pickle\n",
        "\n",
        "# Load the preprocessor and model\n",
        "try:\n",
        "    with open('preprocessor.pkl', 'rb') as f:\n",
        "        preprocessor = pickle.load(f)\n",
        "    model = tf.keras.models.load_model('car_price_model.h5')\n",
        "except Exception as e:\n",
        "    st.error(f\"Error loading model or preprocessor: {e}\")\n",
        "    st.stop() # Stop the app if loading fails\n",
        "\n",
        "\n",
        "st.title('Car Price Prediction App 🚗')\n",
        "\n",
        "# Function to make predictions\n",
        "def predict_price(car_name, year, present_price, kms_driven, fuel_type, seller_type, transmission, owner, preprocessor, model):\n",
        "    # Create a DataFrame from input\n",
        "    input_data = pd.DataFrame([[car_name, year, present_price, kms_driven, fuel_type, seller_type, transmission, owner]],\n",
        "                              columns=['Car_Name', 'Year', 'Present_Price', 'Kms_Driven', 'Fuel_Type', 'Seller_Type', 'Transmission', 'Owner'])\n",
        "\n",
        "    # Preprocess the input data\n",
        "    input_data_proc = preprocessor.transform(input_data)\n",
        "\n",
        "    # Make prediction\n",
        "    prediction = model.predict(input_data_proc)\n",
        "\n",
        "    return prediction[0][0]\n",
        "\n",
        "# Streamlit UI\n",
        "st.header('Enter Car Details:')\n",
        "\n",
        "# Input fields (adjust based on your data and desired inputs)\n",
        "car_name = st.text_input('Car Name')\n",
        "year = st.number_input('Manufacturing Year', min_value=1990, max_value=2024, value=2015)\n",
        "present_price = st.number_input('Present Price (in Lakhs)', min_value=0.0, value=5.0)\n",
        "kms_driven = st.number_input('Kms Driven', min_value=0, value=50000)\n",
        "fuel_type = st.selectbox('Fuel Type', ['Petrol', 'Diesel', 'CNG'])\n",
        "seller_type = st.selectbox('Seller Type', ['Dealer', 'Individual'])\n",
        "transmission = st.selectbox('Transmission Type', ['Manual', 'Automatic'])\n",
        "owner = st.selectbox('Number of Owners', [0, 1, 2, 3]) # Assuming these are the categories from your data\n",
        "\n",
        "if st.button('Predict Selling Price'):\n",
        "    predicted_price = predict_price(car_name, year, present_price, kms_driven, fuel_type, seller_type, transmission, owner, preprocessor, model)\n",
        "    st.success(f'Predicted Selling Price: {predicted_price:.2f} Lakhs')\n",
        "\"\"\"\n",
        "\n",
        "with open('app.py', 'w') as f:\n",
        "    f.write(streamlit_code)\n",
        "\n",
        "print('Streamlit app code saved to app.py')"
      ],
      "metadata": {
        "colab": {
          "base_uri": "https://localhost:8080/"
        },
        "id": "zFimilOxOnmk",
        "outputId": "4fbeab1d-b505-42a2-facf-d4faad0671db"
      },
      "execution_count": 54,
      "outputs": [
        {
          "output_type": "stream",
          "name": "stdout",
          "text": [
            "Streamlit app code saved to app.py\n"
          ]
        }
      ]
    },
    {
      "cell_type": "markdown",
      "metadata": {
        "id": "50319b18"
      },
      "source": [
        "To run the Streamlit app, execute the following command in your terminal:"
      ]
    },
    {
      "cell_type": "code",
      "metadata": {
        "id": "3d6a3d85"
      },
      "source": [
        "# You might need to install streamlit first:\n",
        "# !pip install streamlit"
      ],
      "execution_count": 55,
      "outputs": []
    },
    {
      "cell_type": "markdown",
      "source": [
        "#11. Save Model"
      ],
      "metadata": {
        "id": "wr3BN4lTQcF_"
      }
    },
    {
      "cell_type": "code",
      "source": [
        "model.save('car_price_model.h5')\n",
        "print('Model saved as car_price_model.h5')"
      ],
      "metadata": {
        "colab": {
          "base_uri": "https://localhost:8080/"
        },
        "id": "_tcxQtc3QgeZ",
        "outputId": "4dea1c4e-3d87-49ff-8fb1-7a385afa6581"
      },
      "execution_count": 56,
      "outputs": [
        {
          "output_type": "stream",
          "name": "stderr",
          "text": [
            "WARNING:absl:You are saving your model as an HDF5 file via `model.save()` or `keras.saving.save_model(model)`. This file format is considered legacy. We recommend using instead the native Keras format, e.g. `model.save('my_model.keras')` or `keras.saving.save_model(model, 'my_model.keras')`. \n"
          ]
        },
        {
          "output_type": "stream",
          "name": "stdout",
          "text": [
            "Model saved as car_price_model.h5\n"
          ]
        }
      ]
    },
    {
      "cell_type": "markdown",
      "source": [
        "#12. Equations and Metrics\n",
        "\n",
        "- MSE = (1/N) Σ (yᵢ - ŷᵢ)²\n",
        "- MAE = (1/N) Σ |yᵢ - ŷᵢ|\n",
        "- R² = 1 - (Σ(yᵢ - ŷᵢ)² / Σ(yᵢ - ȳ)²)"
      ],
      "metadata": {
        "id": "8uDQXXeuQlQF"
      }
    },
    {
      "cell_type": "markdown",
      "source": [
        "#13. Conclusion\n",
        "\n",
        "The DNN regression model successfully predicts used car prices with high accuracy.\n",
        "- Evaluation metrics (MAE, R²) demonstrate model effectiveness.\n",
        "- Further improvement can be achieved through feature engineering and hyperparameter tuning."
      ],
      "metadata": {
        "id": "FmcZo6QZQuS4"
      }
    }
  ]
}